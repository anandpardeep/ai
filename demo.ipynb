{
 "cells": [
  {
   "cell_type": "code",
   "execution_count": 1,
   "id": "4960f816-7584-44be-a27a-bc3b933c18d7",
   "metadata": {},
   "outputs": [],
   "source": [
    "from llama_index.core import Document\n",
    "from llama_index.embeddings.ollama import OllamaEmbedding\n",
    "from llama_index.core.node_parser import SentenceSplitter\n",
    "from llama_index.core.extractors import TitleExtractor\n",
    "from llama_index.core.ingestion import IngestionPipeline, IngestionCache\n",
    "from llama_index.core import VectorStoreIndex, SimpleDirectoryReader,StorageContext\n",
    "import chromadb\n",
    "from llama_index.vector_stores.chroma import ChromaVectorStore\n",
    "from llama_index.llms.ollama import Ollama\n",
    "from llama_index.core.llms import ChatMessage  \n",
    "from IPython.display import Markdown, display\n",
    "import gradio as gr\n",
    "from llama_index.core.prompts import PromptTemplate\n",
    "from llama_index.core.query_engine import RetrieverQueryEngine\n",
    "from llama_index.core.postprocessor import SentenceTransformerRerank\n",
    "from llama_index.core import Settings\n",
    "from dotenv import load_dotenv\n",
    "import os\n",
    "from openai import OpenAI\n",
    "import openai\n",
    "from llama_index.core import ServiceContext\n",
    "from llama_index.llms.openai import OpenAI as LlamaOpenAI  # LlamaIndex-compatible"
   ]
  },
  {
   "cell_type": "code",
   "execution_count": 2,
   "id": "832c6b46-1d73-4ae1-b24b-acebcab9e724",
   "metadata": {},
   "outputs": [],
   "source": [
    "load_dotenv()\n",
    "\n",
    "openai_api_key = os.getenv(\"OPENAI_API_KEY\")\n",
    "openai.api_key = openai_api_key\n",
    "client = OpenAI(api_key=openai_api_key)"
   ]
  },
  {
   "cell_type": "code",
   "execution_count": 3,
   "id": "aeebaa1b-f7ce-4bfa-8be5-b25f81143aef",
   "metadata": {},
   "outputs": [],
   "source": [
    "DEFAULT_MODEL=\"LLaMA 3.2 (Ollama)\"\n",
    "SUPPORTED_MODELS = {\n",
    "    \"OpenAI GPT-4\": {\"provider\": \"openai\", \"model_name\": \"gpt-4\"},\n",
    "    DEFAULT_MODEL: {\"provider\": \"ollama\", \"model_name\": \"llama3.2\"}\n",
    "}\n",
    "\n",
    "llm_cache = {}\n",
    "for model_name, config in SUPPORTED_MODELS.items():\n",
    "    if config[\"provider\"] == \"openai\":\n",
    "        llm_cache[model_name] = LlamaOpenAI(model_name=config[\"model_name\"])\n",
    "    elif config[\"provider\"] == \"ollama\":\n",
    "        llm_cache[model_name] = Ollama(model=config[\"model_name\"], \n",
    "                                       request_timeout=120, \n",
    "                                       base_url=\"http://127.0.0.1:11434\")"
   ]
  },
  {
   "cell_type": "code",
   "execution_count": 4,
   "id": "0efa6876-6c8d-4fcd-b59f-f248b58ea487",
   "metadata": {},
   "outputs": [],
   "source": [
    "def get_llm_from_choice(choice: str):\n",
    "    config = SUPPORTED_MODELS[choice]\n",
    "    if choice not in llm_cache:\n",
    "      raise ValueError(\"Unsupported provider\")\n",
    "    \n",
    "    return llm_cache[choice]    "
   ]
  },
  {
   "cell_type": "code",
   "execution_count": 5,
   "id": "cff64a3a-947c-41cf-bc10-6a167ece58ad",
   "metadata": {},
   "outputs": [],
   "source": [
    "documentDir=\"docs/page_markdowns\"\n",
    "vectorDbLocation=\"demo_vectorDB\"\n",
    "indexStorage=\"indexStorage\"\n",
    "\n",
    "system_message = \"You are a helpful assistant\"\n",
    "\n",
    "template_str = \"\"\"\n",
    "You are a cybersecurity expert assistant analyzing threat intelligence reports. You provide detailed, technical responses based on stored security knowledge for security analysts and incident responders.\n",
    "\n",
    "Context Information:\n",
    "{context_str}\n",
    "\n",
    "Analyst Question:\n",
    "{query_str}\n",
    "\n",
    "Instructions:\n",
    "- Provide technical details when available\n",
    "- Reference specific threat actors, TTPs, or indicators if mentioned in the context\n",
    "- If the context doesn't contain relevant information, clearly state this\n",
    "- Format your response for security professionals\n",
    "\n",
    "Response:\n",
    "\"\"\"\n",
    "\n",
    "prompt_template = PromptTemplate(template_str)"
   ]
  },
  {
   "cell_type": "code",
   "execution_count": 6,
   "id": "73d85d8c-3298-4ff6-999c-48dd923b9b7d",
   "metadata": {},
   "outputs": [],
   "source": [
    "documents = SimpleDirectoryReader(documentDir).load_data()\n",
    "for doc in documents:\n",
    "    filename = doc.metadata.get(\"file_path\", \"\")\n",
    "    import re\n",
    "    match = re.search(r\"page[_\\-]?(\\d+)\", filename.lower())\n",
    "    if match:\n",
    "        doc.metadata[\"page\"] = int(match.group(1))\n"
   ]
  },
  {
   "cell_type": "code",
   "execution_count": 7,
   "id": "78d5afbf-9eb5-44fd-87a1-f82bfd55c9d0",
   "metadata": {},
   "outputs": [
    {
     "data": {
      "text/plain": [
       "[Document(id_='418d2a22-2862-4eae-ac03-91d7a4e309b5', embedding=None, metadata={'file_path': '/teamspace/studios/this_studio/docs/page_markdowns/page_1.md', 'file_name': 'page_1.md', 'file_type': 'text/markdown', 'file_size': 43, 'creation_date': '2025-06-05', 'last_modified_date': '2025-06-05', 'page': 1}, excluded_embed_metadata_keys=['file_name', 'file_type', 'file_size', 'creation_date', 'last_modified_date', 'last_accessed_date'], excluded_llm_metadata_keys=['file_name', 'file_type', 'file_size', 'creation_date', 'last_modified_date', 'last_accessed_date'], relationships={}, metadata_template='{key}: {value}', metadata_separator='\\n', text_resource=MediaResource(embeddings=None, data=None, text='2 0 2 5\\nG L O B A L T H R E A T\\nR E P O R T', path=None, url=None, mimetype=None), image_resource=None, audio_resource=None, video_resource=None, text_template='{metadata_str}\\n\\n{content}')]"
      ]
     },
     "execution_count": 7,
     "metadata": {},
     "output_type": "execute_result"
    }
   ],
   "source": [
    "documents[:1]"
   ]
  },
  {
   "cell_type": "code",
   "execution_count": 8,
   "id": "99565f52-f957-4d6e-b2d5-37f8a0471963",
   "metadata": {},
   "outputs": [],
   "source": [
    "from llama_index.core.node_parser import SemanticSplitterNodeParser\n",
    "from llama_index.embeddings.openai import OpenAIEmbedding\n",
    "from llama_index.core.node_parser import MarkdownNodeParser\n",
    "embed_model =  OllamaEmbedding(model_name=\"qwen2.5\")\n",
    "#embed_model =  OpenAIEmbedding()"
   ]
  },
  {
   "cell_type": "code",
   "execution_count": 9,
   "id": "e8a0be1a-251e-42f5-ac7d-c4446b1fa1fc",
   "metadata": {},
   "outputs": [],
   "source": [
    "md_parser = MarkdownNodeParser()\n",
    "md_nodes = md_parser.get_nodes_from_documents(documents)"
   ]
  },
  {
   "cell_type": "markdown",
   "id": "982f027a-387e-4b61-9694-361ca41e22b4",
   "metadata": {},
   "source": [
    "md_nodes"
   ]
  },
  {
   "cell_type": "code",
   "execution_count": 10,
   "id": "1a4f9b75-ed7c-40bb-b4f8-aa4295f895d1",
   "metadata": {},
   "outputs": [],
   "source": [
    "semantic_parser = SemanticSplitterNodeParser(\n",
    "    embed_model=embed_model,\n",
    "    chunk_size=1024,\n",
    "    chunk_overlap=128\n",
    ")\n",
    "semantic_nodes = semantic_parser.build_semantic_nodes_from_documents(md_nodes)"
   ]
  },
  {
   "cell_type": "code",
   "execution_count": 15,
   "id": "c6405601-172a-429f-99d4-afcf4173d47d",
   "metadata": {},
   "outputs": [
    {
     "name": "stdout",
     "output_type": "stream",
     "text": [
      "Node <class 'llama_index.core.schema.TextNode'>:\n",
      "  Text: 2 0 2 5\n",
      "G L O B A L T H R E A T\n",
      "R E P O R T\n",
      "  embeddin: Node ID: de7f4b8c-e1ef-4385-8166-77ec1a3305ac\n",
      "Text: 2 0 2 5 G L O B A L T H R E A T R E P O R T\n",
      "\n",
      "Node <class 'llama_index.core.schema.TextNode'>:\n",
      "  Text: # The Growing Reliance on Identity Attacks and Vulnerability Exploits\n",
      "\n",
      "Every breach starts with init\n",
      "  embeddin: Node ID: e604a3fb-4104-4423-98dc-f0470a1926e0\n",
      "Text: # The Growing Reliance on Identity Attacks and Vulnerability\n",
      "Exploits  Every breach starts with initial access, and identity-based\n",
      "attacks are among the most effective entry methods. Instead of\n",
      "traditional malware, adversaries favor faster and stealthier methods\n",
      "such as vishing, social engineering, access broker services, and\n",
      "trusted relationshi...\n",
      "\n",
      "Node <class 'llama_index.core.schema.TextNode'>:\n",
      "  Text: As adversaries scale identity-based attacks and vulnerability exploitation, organizations must adopt\n",
      "  embeddin: Node ID: fc0c8332-c053-4779-8219-fd3f7478cec3\n",
      "Text: As adversaries scale identity-based attacks and vulnerability\n",
      "exploitation, organizations must adopt proactive defense strategies,\n",
      "including identity verification, risk-based patching, and early\n",
      "detection of credential abuse, to disrupt adversary operations before\n",
      "they escalate.  | MONTH      | 2024 | |------------|------| | JANUARY\n",
      "| 590  | ...\n",
      "\n",
      "Node <class 'llama_index.core.schema.TextNode'>:\n",
      "  Text: # The Continued Rise of Interactive Intrusions\n",
      "\n",
      "Modern cyber threats are increasingly dominated by “\n",
      "  embeddin: Node ID: 392ef416-982c-41c5-9ca9-1758211a214c\n",
      "Text: # The Continued Rise of Interactive Intrusions  Modern cyber\n",
      "threats are increasingly dominated by “interactive intrusion”\n",
      "techniques, where adversaries execute hands-on-keyboard actions to\n",
      "achieve objectives.\n",
      "\n",
      "Node <class 'llama_index.core.schema.TextNode'>:\n",
      "  Text: Unlike traditional malware attacks, these intrusions rely on human adversaries mimicking legitimate \n",
      "  embeddin: Node ID: 23a00029-da07-44ae-b1b7-b68239780166\n",
      "Text: Unlike traditional malware attacks, these intrusions rely on\n",
      "human adversaries mimicking legitimate user or administrator behavior,\n",
      "making them exceptionally difficult to detect.  In 2024, CrowdStrike\n",
      "observed a 35% year-over-year increase in interactive intrusion\n",
      "campaigns. For the seventh consecutive year, the technology sector\n",
      "remained the mo...\n",
      "\n"
     ]
    }
   ],
   "source": [
    "for i, node in enumerate(semantic_nodes[:5]):\n",
    "    print(f\"Node {type(node)}:\")\n",
    "    print(f\"  Text: {node.text[:100]}\") \n",
    "    print(f\"  embeddin: {node}\\n\")"
   ]
  },
  {
   "cell_type": "code",
   "execution_count": 13,
   "id": "52a646ba-f82c-458f-aa5f-3fc83c3ee573",
   "metadata": {},
   "outputs": [],
   "source": [
    "chroma_client = chromadb.PersistentClient(path=vectorDbLocation)\n",
    "chroma_collection = chroma_client.get_or_create_collection(\"crowdstrike_docs\")\n",
    "vector_store = ChromaVectorStore(chroma_client=chroma_client, chroma_collection=chroma_collection,hybrid=True)\n",
    "storage_context = StorageContext.from_defaults(vector_store=vector_store)\n",
    "\n",
    "index = VectorStoreIndex(\n",
    "    semantic_nodes,\n",
    "    storage_context=storage_context,\n",
    "    embed_model=embed_model\n",
    ")"
   ]
  },
  {
   "cell_type": "code",
   "execution_count": 16,
   "id": "aebc2bcd-c48b-4ec5-a26b-4f6f13e2d284",
   "metadata": {},
   "outputs": [],
   "source": [
    "from llama_index.core.query_engine import RetrieverQueryEngine\n",
    "\n",
    "retriever = index.as_retriever(similarity_top_k=3)\n",
    "\n"
   ]
  },
  {
   "cell_type": "code",
   "execution_count": 17,
   "id": "ca3cdb5d-91ed-46dd-b2cb-1ddbd3318f96",
   "metadata": {},
   "outputs": [],
   "source": [
    "def message_model(prompt,model_choice):\n",
    "    print(prompt)    \n",
    "    llm_to_use = get_llm_from_choice(model_choice)\n",
    "    \n",
    "    print(\"\\n=== RETRIEVED CONTEXT ===\")    \n",
    "    retrieved_nodes = retriever.retrieve(prompt)\n",
    "    for i, node in enumerate(retrieved_nodes):\n",
    "      print(f\"Node {i+1} Score: {node.score:.4f}\")\n",
    "      print(f\"Content Preview: {node.text[:200]}...\")\n",
    "      print(\"---\")\n",
    "        \n",
    "    query_engine = RetrieverQueryEngine.from_args(\n",
    "    retriever=retriever,\n",
    "    llm=llm_to_use,\n",
    "    text_qa_template=prompt_template,\n",
    "    verbose=True\n",
    "    )\n",
    "    \n",
    "    context_str = \"\\n\\n\".join([node.text for node in retrieved_nodes])\n",
    "    formatted_prompt = prompt_template.format(\n",
    "        context_str=context_str,\n",
    "        query_str=prompt\n",
    "    )\n",
    "    \n",
    "    print(\"\\n=== FORMATTED PROMPT SENT TO LLM ===\")\n",
    "    print(formatted_prompt)\n",
    "    print(\"=== END FORMATTED PROMPT ===\\n\")\n",
    "    \n",
    "    response = query_engine.query(prompt)\n",
    "    return response.response"
   ]
  },
  {
   "cell_type": "code",
   "execution_count": 18,
   "id": "427f410d-4188-4ae8-9703-87e321eae893",
   "metadata": {},
   "outputs": [
    {
     "ename": "SyntaxError",
     "evalue": "invalid syntax (307704984.py, line 1)",
     "output_type": "error",
     "traceback": [
      "\u001b[0;36m  Cell \u001b[0;32mIn[18], line 1\u001b[0;36m\u001b[0m\n\u001b[0;31m    Which year of report is available\u001b[0m\n\u001b[0m          ^\u001b[0m\n\u001b[0;31mSyntaxError\u001b[0m\u001b[0;31m:\u001b[0m invalid syntax\n"
     ]
    }
   ],
   "source": [
    "Which year of report is available"
   ]
  },
  {
   "cell_type": "code",
   "execution_count": null,
   "id": "69bc3a76-c264-48ee-b674-b4d0385ab96e",
   "metadata": {},
   "outputs": [
    {
     "name": "stdout",
     "output_type": "stream",
     "text": [
      "* Running on local URL:  http://127.0.0.1:7860\n",
      "* Running on public URL: https://10b80b0646086992ef.gradio.live\n",
      "\n",
      "This share link expires in 72 hours. For free permanent hosting and GPU upgrades, run `gradio deploy` from the terminal in the working directory to deploy to Hugging Face Spaces (https://huggingface.co/spaces)\n"
     ]
    },
    {
     "data": {
      "text/html": [
       "<div><iframe src=\"https://10b80b0646086992ef.gradio.live\" width=\"100%\" height=\"500\" allow=\"autoplay; camera; microphone; clipboard-read; clipboard-write;\" frameborder=\"0\" allowfullscreen></iframe></div>"
      ],
      "text/plain": [
       "<IPython.core.display.HTML object>"
      ]
     },
     "metadata": {},
     "output_type": "display_data"
    },
    {
     "name": "stdout",
     "output_type": "stream",
     "text": [
      "report for which year is available\n",
      "\n",
      "=== RETRIEVED CONTEXT ===\n",
      "Node 1 Score: 0.0000\n",
      "Content Preview: ## CrowdStrike Threat Graph\n",
      "Uses cloud-scale AI to correlate trillions of data points from multiple telemetry sources to identify shifts in adversarial tactics and map tradecraft to automatically pred...\n",
      "---\n",
      "Node 2 Score: 0.0000\n",
      "Content Preview: ### Educate users\n",
      "- Provide regular security awareness training\n",
      "- Teach employees to recognize phishing attempts and social engineering tactics...\n",
      "---\n",
      "\n",
      "=== FORMATTED PROMPT SENT TO LLM ===\n",
      "\n",
      "You are a cybersecurity expert assistant analyzing threat intelligence reports. You provide detailed, technical responses based on stored security knowledge for security analysts and incident responders.\n",
      "\n",
      "Context Information:\n",
      "## CrowdStrike Threat Graph\n",
      "Uses cloud-scale AI to correlate trillions of data points from multiple telemetry sources to identify shifts in adversarial tactics and map tradecraft to automatically predict and prevent threats in real time across CrowdStrike's global customer base\n",
      "\n",
      "### Educate users\n",
      "- Provide regular security awareness training\n",
      "- Teach employees to recognize phishing attempts and social engineering tactics\n",
      "\n",
      "Analyst Question:\n",
      "report for which year is available\n",
      "\n",
      "Instructions:\n",
      "- Provide technical details when available\n",
      "- Reference specific threat actors, TTPs, or indicators if mentioned in the context\n",
      "- If the context doesn't contain relevant information, clearly state this\n",
      "- Format your response for security professionals\n",
      "\n",
      "Response:\n",
      "\n",
      "=== END FORMATTED PROMPT ===\n",
      "\n",
      "as per naming conventions whats the name given to Pakistan\n",
      "\n",
      "\n",
      "=== RETRIEVED CONTEXT ===\n",
      "Node 1 Score: 0.0000\n",
      "Content Preview: # GENERATIVE ARTIFICIAL INTELLIGENCE AND THE ENTERPRISING ADVERSARY\n",
      "\n",
      "GenAI has emerged as an attractive tool for adversaries with a low barrier to entry that makes it widely accessible. Recent advance...\n",
      "---\n",
      "Node 2 Score: 0.0000\n",
      "Content Preview: # CROWDSTRIKE 2025 GLOBAL THREAT REPORT\n",
      "\n",
      "Disclosing a vulnerability, particularly one acknowledged as exploited in the wild, highlights potentially viable mechanisms for future exploitation. For examp...\n",
      "---\n",
      "\n",
      "=== FORMATTED PROMPT SENT TO LLM ===\n",
      "\n",
      "You are a cybersecurity expert assistant analyzing threat intelligence reports. You provide detailed, technical responses based on stored security knowledge for security analysts and incident responders.\n",
      "\n",
      "Context Information:\n",
      "# GENERATIVE ARTIFICIAL INTELLIGENCE AND THE ENTERPRISING ADVERSARY\n",
      "\n",
      "GenAI has emerged as an attractive tool for adversaries with a low barrier to entry that makes it widely accessible. Recent advancements in genAI have enhanced the efficacy of certain cyber operations, particularly those using social engineering. It will almost certainly be employed in 2025 cyber operations.\n",
      "\n",
      "Adversaries increasingly adopted genAI throughout 2024, particularly in support of social engineering efforts and high-tempo IO campaigns. Both were supported by genAI tools that can create highly convincing outputs without precise prompting, custom model training, or fine-tuning. Some threat actors are employing genAI, specifically LLMs, to support CNO efforts.\n",
      "\n",
      "\n",
      "\n",
      "# CROWDSTRIKE 2025 GLOBAL THREAT REPORT\n",
      "\n",
      "Disclosing a vulnerability, particularly one acknowledged as exploited in the wild, highlights potentially viable mechanisms for future exploitation. For example, in September 2024, CrowdStrike Intelligence observed multiple POST requests consistent with exploiting a direct request vulnerability in Apache OFBiz (CVE-2024-45195). These POST requests mirrored CVE-2024-45195 exploitation guidance that a well-known industry source had published two weeks earlier. CVE-2024-45195 results from the option to desynchronize the `requestUri` and `overrideViewUri` variables in the `RequestHandler` component of the OFBiz Java application logic.\n",
      "\n",
      "CVE-2024-45195 is similar to earlier vulnerabilities (CVE-2024-32113, CVE-2024-36104, and CVE-2024-38856) that also exploited desynchronization capabilities to allow unauthorized users to bypass authentication mechanisms. Though the vendor has provided multiple patches and several industry sources have publicly discussed these vulnerabilities, the core flaw persists and allows attackers to manipulate the controller-view state.\n",
      "\n",
      "Separately, in January 2024, CrowdStrike Intelligence assessed threat actors had almost certainly leveraged CVE-2023-29324 in recent spear-phishing operations. CVE-2023-29324 bypasses Microsoft’s mitigations for a previously disclosed Microsoft Outlook vulnerability (CVE-2023-23397), which **FANCY BEAR** has very likely exploited since at least March 2022 to target organizations in multiple regions and sectors. The same researcher that discovered the initial bypass (CVE-2023-29324) later found another bypass (CVE-2023-35384).\n",
      "\n",
      "\n",
      "\n",
      "Analyst Question:\n",
      "as per naming conventions whats the name given to Pakistan\n",
      "\n",
      "\n",
      "Instructions:\n",
      "- Provide technical details when available\n",
      "- Reference specific threat actors, TTPs, or indicators if mentioned in the context\n",
      "- If the context doesn't contain relevant information, clearly state this\n",
      "- Format your response for security professionals\n",
      "\n",
      "Response:\n",
      "\n",
      "=== END FORMATTED PROMPT ===\n",
      "\n",
      "as per naming conventions whats the name given to Pakistan\n",
      "\n",
      "\n",
      "=== RETRIEVED CONTEXT ===\n",
      "Node 1 Score: 0.0000\n",
      "Content Preview: # GENERATIVE ARTIFICIAL INTELLIGENCE AND THE ENTERPRISING ADVERSARY\n",
      "\n",
      "GenAI has emerged as an attractive tool for adversaries with a low barrier to entry that makes it widely accessible. Recent advance...\n",
      "---\n",
      "Node 2 Score: 0.0000\n",
      "Content Preview: # CROWDSTRIKE 2025 GLOBAL THREAT REPORT\n",
      "\n",
      "Disclosing a vulnerability, particularly one acknowledged as exploited in the wild, highlights potentially viable mechanisms for future exploitation. For examp...\n",
      "---\n",
      "\n",
      "=== FORMATTED PROMPT SENT TO LLM ===\n",
      "\n",
      "You are a cybersecurity expert assistant analyzing threat intelligence reports. You provide detailed, technical responses based on stored security knowledge for security analysts and incident responders.\n",
      "\n",
      "Context Information:\n",
      "# GENERATIVE ARTIFICIAL INTELLIGENCE AND THE ENTERPRISING ADVERSARY\n",
      "\n",
      "GenAI has emerged as an attractive tool for adversaries with a low barrier to entry that makes it widely accessible. Recent advancements in genAI have enhanced the efficacy of certain cyber operations, particularly those using social engineering. It will almost certainly be employed in 2025 cyber operations.\n",
      "\n",
      "Adversaries increasingly adopted genAI throughout 2024, particularly in support of social engineering efforts and high-tempo IO campaigns. Both were supported by genAI tools that can create highly convincing outputs without precise prompting, custom model training, or fine-tuning. Some threat actors are employing genAI, specifically LLMs, to support CNO efforts.\n",
      "\n",
      "\n",
      "\n",
      "# CROWDSTRIKE 2025 GLOBAL THREAT REPORT\n",
      "\n",
      "Disclosing a vulnerability, particularly one acknowledged as exploited in the wild, highlights potentially viable mechanisms for future exploitation. For example, in September 2024, CrowdStrike Intelligence observed multiple POST requests consistent with exploiting a direct request vulnerability in Apache OFBiz (CVE-2024-45195). These POST requests mirrored CVE-2024-45195 exploitation guidance that a well-known industry source had published two weeks earlier. CVE-2024-45195 results from the option to desynchronize the `requestUri` and `overrideViewUri` variables in the `RequestHandler` component of the OFBiz Java application logic.\n",
      "\n",
      "CVE-2024-45195 is similar to earlier vulnerabilities (CVE-2024-32113, CVE-2024-36104, and CVE-2024-38856) that also exploited desynchronization capabilities to allow unauthorized users to bypass authentication mechanisms. Though the vendor has provided multiple patches and several industry sources have publicly discussed these vulnerabilities, the core flaw persists and allows attackers to manipulate the controller-view state.\n",
      "\n",
      "Separately, in January 2024, CrowdStrike Intelligence assessed threat actors had almost certainly leveraged CVE-2023-29324 in recent spear-phishing operations. CVE-2023-29324 bypasses Microsoft’s mitigations for a previously disclosed Microsoft Outlook vulnerability (CVE-2023-23397), which **FANCY BEAR** has very likely exploited since at least March 2022 to target organizations in multiple regions and sectors. The same researcher that discovered the initial bypass (CVE-2023-29324) later found another bypass (CVE-2023-35384).\n",
      "\n",
      "\n",
      "\n",
      "Analyst Question:\n",
      "as per naming conventions whats the name given to Pakistan\n",
      "\n",
      "\n",
      "Instructions:\n",
      "- Provide technical details when available\n",
      "- Reference specific threat actors, TTPs, or indicators if mentioned in the context\n",
      "- If the context doesn't contain relevant information, clearly state this\n",
      "- Format your response for security professionals\n",
      "\n",
      "Response:\n",
      "\n",
      "=== END FORMATTED PROMPT ===\n",
      "\n"
     ]
    }
   ],
   "source": [
    "gr.Interface(\n",
    "    fn=message_model,\n",
    "    inputs=[gr.Textbox(lines=2, label=\"Ask a question...\"),\n",
    "           gr.Dropdown(list(SUPPORTED_MODELS.keys()), label=\"Choose Model\", value=DEFAULT_MODEL)],\n",
    "    outputs=gr.Textbox(placeholder=\"Output text.....\"), \n",
    "    flagging_mode=\"never\"\n",
    ").queue().launch(share=True,debug=True)"
   ]
  },
  {
   "cell_type": "code",
   "execution_count": null,
   "id": "3b770329-17d5-4f37-b935-6dd3003d2e1b",
   "metadata": {},
   "outputs": [],
   "source": []
  }
 ],
 "metadata": {
  "kernelspec": {
   "display_name": "Python 3",
   "language": "python",
   "name": "python3"
  },
  "language_info": {
   "codemirror_mode": {
    "name": "ipython",
    "version": 3
   },
   "file_extension": ".py",
   "mimetype": "text/x-python",
   "name": "python",
   "nbconvert_exporter": "python",
   "pygments_lexer": "ipython3",
   "version": "3.10.10"
  }
 },
 "nbformat": 4,
 "nbformat_minor": 5
}
