{
 "cells": [
  {
   "cell_type": "code",
   "execution_count": null,
   "id": "d882cd19-c7ea-4d18-a4d3-1b17a289cd80",
   "metadata": {},
   "outputs": [],
   "source": [
    "# un-comment any of the following:\n",
    "!pip install pymupdf\n",
    "!pip install matplotlib\n",
    "!pip install pandas\n",
    "!pip install numpy\n",
    "!pip install pymupdf4llm"
   ]
  },
  {
   "cell_type": "code",
   "execution_count": 43,
   "id": "3329544f-bae6-4a17-8f34-9a491576cfd4",
   "metadata": {},
   "outputs": [],
   "source": [
    "from dotenv import load_dotenv\n",
    "import os\n",
    "import base64\n",
    "\n",
    "# Load .env file\n",
    "load_dotenv()\n",
    "\n",
    "# Get the API key\n",
    "openai_api_key = os.getenv(\"OPENAI_API_KEY\")\n",
    "\n",
    "# Set it for OpenAI client\n",
    "import openai\n",
    "openai.api_key = openai_api_key"
   ]
  },
  {
   "cell_type": "code",
   "execution_count": 44,
   "id": "f20f75ba-d2b8-41e5-a628-e31aa9f5f506",
   "metadata": {},
   "outputs": [],
   "source": [
    "import fitz\n",
    "from PIL import Image\n",
    "\n",
    "from llama_index.core.node_parser import (\n",
    "    SentenceSplitter,\n",
    "    SemanticSplitterNodeParser,\n",
    ")"
   ]
  },
  {
   "cell_type": "code",
   "execution_count": 23,
   "id": "63dade51-0050-4545-b8f3-f4794b833a32",
   "metadata": {},
   "outputs": [],
   "source": [
    "file=\"/Users/anandpardeep/AI/CrowdStrikeGlobalThreatReport2025.pdf\"\n",
    "doc = fitz.open(file)\n"
   ]
  },
  {
   "cell_type": "code",
   "execution_count": 13,
   "id": "72cf3429-2731-44fa-8e70-1d9628b307bc",
   "metadata": {},
   "outputs": [],
   "source": [
    "page.get_pixmap"
   ]
  },
  {
   "cell_type": "code",
   "execution_count": null,
   "id": "ae8f8dcc-9f79-4a54-b89c-28c95b524eb4",
   "metadata": {},
   "outputs": [],
   "source": [
    "for page_num, page in enumerate(doc, start=1):\n",
    "    table_finder = page.find_tables()\n",
    "    tables = table_finder.tables\n",
    "\n",
    "    print(f\"Page {page_num}: Found {len(tables)} table(s)\")\n",
    "    \n",
    "    for i, table in enumerate(tables, start=1):\n",
    "        print(f\"\\nTable {i} (Markdown):\")\n",
    "        print(table.to_pandas())\n"
   ]
  },
  {
   "cell_type": "code",
   "execution_count": null,
   "id": "6e20d0d4-f042-4a2a-bb75-ffc5440800cc",
   "metadata": {},
   "outputs": [],
   "source": [
    "# Process all pages and combine blocks from each\n",
    "full_combined_blocks = []\n",
    "\n",
    "for page_num, page in enumerate(doc, start=1):\n",
    "    page_blocks = []\n",
    "\n",
    "    # Extract text blocks\n",
    "    text_blocks = page.get_text(\"dict\")[\"blocks\"]\n",
    "    for block in text_blocks:\n",
    "        if \"lines\" in block and block[\"lines\"]:\n",
    "            y_top = block[\"bbox\"][1]\n",
    "            text = \"\\n\".join([span[\"text\"] for line in block[\"lines\"] for span in line[\"spans\"]])\n",
    "            page_blocks.append({\"y\": y_top, \"type\": \"text\", \"content\": text.strip(), \"page\": page_num})\n",
    "\n",
    "    # Extract table blocks (if available)\n",
    "    if hasattr(page, \"find_tables\"):\n",
    "        try:\n",
    "            tables = page.find_tables().tables\n",
    "            for table in tables:\n",
    "                y_top = table.bbox[1]\n",
    "                md_table = table.to_markdown()\n",
    "                page_blocks.append({\"y\": y_top, \"type\": \"table\", \"content\": md_table, \"page\": page_num})\n",
    "        except Exception as e:\n",
    "            page_blocks.append({\"y\": 99999, \"type\": \"error\", \"content\": f\"Table extraction error: {str(e)}\", \"page\": page_num})\n",
    "\n",
    "    # Sort blocks on this page\n",
    "    page_blocks.sort(key=lambda x: x[\"y\"])\n",
    "    full_combined_blocks.extend(page_blocks)\n",
    "\n",
    "# Combine and format the entire document preview\n",
    "combined_full_preview = \"\\n\\n---\\n\\n\".join(\n",
    "    f\"[PAGE {block['page']}] [{block['type'].upper()}]\\n{block['content']}\" for block in full_combined_blocks\n",
    ")\n",
    "\n",
    "combined_full_preview[:4000]  # Truncate for readability\n"
   ]
  },
  {
   "cell_type": "code",
   "execution_count": null,
   "id": "f070eeda-6216-4647-ac1b-f3d2cae22824",
   "metadata": {},
   "outputs": [],
   "source": [
    "import pymupdf4llm\n",
    "\n",
    "md_text = pymupdf4llm.to_markdown(file,show_progress=True,use_glyphs=True,write_images=False,image_path=\"/Users/anandpardeep/AI/images\",page_chunks=True)\n",
    "\n",
    "import pathlib\n",
    "pathlib.Path(\"/Users/anandpardeep/AI/output.md\").write_bytes(md_text)"
   ]
  },
  {
   "cell_type": "code",
   "execution_count": null,
   "id": "1dca9b22-26ec-498a-b4f8-6adc4306188c",
   "metadata": {},
   "outputs": [],
   "source": [
    "last_page = doc[-1]\n",
    "\n",
    "# Print raw text\n",
    "print(\"Raw text:\", last_page.get_text(\"text\"))\n",
    "\n",
    "# Print block structure\n",
    "print(\"Blocks:\", last_page.get_text(\"blocks\"))"
   ]
  },
  {
   "cell_type": "code",
   "execution_count": 34,
   "id": "62dca1e2-60b4-4f95-acb1-38ab1d5c83c1",
   "metadata": {},
   "outputs": [
    {
     "data": {
      "text/plain": [
       "177910"
      ]
     },
     "execution_count": 34,
     "metadata": {},
     "output_type": "execute_result"
    }
   ],
   "source": [
    "chunks = pymupdf4llm.to_markdown(file, page_chunks=True)\n",
    "\n",
    "# Add page headers and combine\n",
    "md_text = \"\"\n",
    "for i, page_md in enumerate(chunks, start=1):\n",
    "    md_text += f\"# Page {i}\\n\\n{page_md}\\n\\n---\\n\\n\"\n",
    "\n",
    "# Save to file\n",
    "pathlib.Path(\"/Users/anandpardeep/AI/chunked.md\").write_text(md_text, encoding=\"utf-8\")"
   ]
  },
  {
   "cell_type": "code",
   "execution_count": null,
   "id": "b42e3fa0-a320-40ff-b84b-c12d69912aa9",
   "metadata": {},
   "outputs": [],
   "source": [
    "from unstructured.partition.pdf import partition_pdf\n",
    "from unstructured.staging.base import elements_to_json"
   ]
  },
  {
   "cell_type": "code",
   "execution_count": 39,
   "id": "0a7adcef-a631-4e72-928e-42104112f539",
   "metadata": {},
   "outputs": [],
   "source": [
    "def describe_image_with_gpt4(base64_png: str) -> str:\n",
    "    try:\n",
    "        response = openai.ChatCompletion.create(\n",
    "            model=\"gpt-4-vision-preview\",\n",
    "            messages=[\n",
    "                {\n",
    "                    \"role\": \"user\",\n",
    "                    \"content\": [\n",
    "                        {\"type\": \"text\", \"text\": \"Describe the content and purpose of this image.\"},\n",
    "                        {\n",
    "                            \"type\": \"image_url\",\n",
    "                            \"image_url\": {\n",
    "                                \"url\": f\"data:image/png;base64,{base64_png}\"\n",
    "                            }\n",
    "                        }\n",
    "                    ]\n",
    "                }\n",
    "            ],\n",
    "            max_tokens=300\n",
    "        )\n",
    "        return response[\"choices\"][0][\"message\"][\"content\"]\n",
    "    except Exception as e:\n",
    "        return f\"(Image description failed: {e})\""
   ]
  },
  {
   "cell_type": "code",
   "execution_count": 47,
   "id": "ea86bbff-64c3-4b00-ae66-2b7be211dc1a",
   "metadata": {},
   "outputs": [],
   "source": [
    "def extract_page_blocks_as_markdown(page, page_number: int) -> str:\n",
    "    blocks = []\n",
    "\n",
    "    # Extract text blocks\n",
    "    for b in page.get_text(\"dict\")[\"blocks\"]:\n",
    "        if \"lines\" in b:\n",
    "            text = \"\\n\".join([span[\"text\"] for line in b[\"lines\"] for span in line[\"spans\"]])\n",
    "            if text.strip():\n",
    "                blocks.append({\"type\": \"text\", \"y\": float(b[\"bbox\"][1]), \"content\": text.strip()})\n",
    "\n",
    "    # Extract table blocks\n",
    "    try:\n",
    "        for table in page.find_tables().tables:\n",
    "            blocks.append({\"type\": \"table\", \"y\": float(table.bbox[1]), \"content\": table.to_markdown()})\n",
    "    except Exception:\n",
    "        pass  # Safe fallback if table detection fails\n",
    "\n",
    "    # Extract and summarize images\n",
    "    for img in page.get_images(full=True):\n",
    "        xref = img[0]\n",
    "        base_image = page.parent.extract_image(xref)\n",
    "        image_bytes = base_image[\"image\"]\n",
    "        image_b64 = base64.b64encode(image_bytes).decode(\"utf-8\")\n",
    "        caption = describe_image_with_gpt4(image_b64)\n",
    "        image_md = f\"![{caption}](data:image/png;base64,{image_b64})\"\n",
    "        blocks.append({\"type\": \"image\", \"y\": float(img[5]), \"content\": image_md})\n",
    "\n",
    "    # Sort all blocks top-to-bottom\n",
    "    sorted_blocks = sorted(blocks, key=lambda b: b[\"y\"])\n",
    "\n",
    "    # Build markdown for this page\n",
    "    page_markdown = [f\"# Page {page_number}\"]\n",
    "    for block in sorted_blocks:\n",
    "        page_markdown.append(block[\"content\"])\n",
    "    page_markdown.append(\"\\n---\\n\")\n",
    "\n",
    "    return \"\\n\\n\".join(page_markdown)"
   ]
  },
  {
   "cell_type": "code",
   "execution_count": 41,
   "id": "2c753972-e57f-4fd8-9c70-6808000f8096",
   "metadata": {},
   "outputs": [],
   "source": [
    "def convert_pdf_to_markdown(pdf_path: str) -> str:\n",
    "    doc = fitz.open(pdf_path)\n",
    "    all_pages_md = []\n",
    "\n",
    "    for page_number, page in enumerate(doc, start=1):\n",
    "        page_md = extract_page_blocks_as_markdown(page, page_number)\n",
    "        all_pages_md.append(page_md)\n",
    "\n",
    "    return \"\\n\".join(all_pages_md)"
   ]
  },
  {
   "cell_type": "code",
   "execution_count": 48,
   "id": "88bfc028-9217-4e35-9cf9-e239d0a54bd1",
   "metadata": {},
   "outputs": [
    {
     "ename": "ValueError",
     "evalue": "could not convert string to float: 'ICCBased'",
     "output_type": "error",
     "traceback": [
      "\u001b[0;31m---------------------------------------------------------------------------\u001b[0m",
      "\u001b[0;31mValueError\u001b[0m                                Traceback (most recent call last)",
      "Cell \u001b[0;32mIn[48], line 2\u001b[0m\n\u001b[1;32m      1\u001b[0m \u001b[38;5;66;03m# Call the function and save output\u001b[39;00m\n\u001b[0;32m----> 2\u001b[0m full_markdown \u001b[38;5;241m=\u001b[39m \u001b[43mconvert_pdf_to_markdown\u001b[49m\u001b[43m(\u001b[49m\u001b[43mfile\u001b[49m\u001b[43m)\u001b[49m\n\u001b[1;32m      4\u001b[0m \u001b[38;5;66;03m# Save to file\u001b[39;00m\n\u001b[1;32m      5\u001b[0m output_path \u001b[38;5;241m=\u001b[39m \u001b[38;5;124m\"\u001b[39m\u001b[38;5;124m/Users/anandpardeep/AI/semantic.md\u001b[39m\u001b[38;5;124m\"\u001b[39m\n",
      "Cell \u001b[0;32mIn[41], line 6\u001b[0m, in \u001b[0;36mconvert_pdf_to_markdown\u001b[0;34m(pdf_path)\u001b[0m\n\u001b[1;32m      3\u001b[0m all_pages_md \u001b[38;5;241m=\u001b[39m []\n\u001b[1;32m      5\u001b[0m \u001b[38;5;28;01mfor\u001b[39;00m page_number, page \u001b[38;5;129;01min\u001b[39;00m \u001b[38;5;28menumerate\u001b[39m(doc, start\u001b[38;5;241m=\u001b[39m\u001b[38;5;241m1\u001b[39m):\n\u001b[0;32m----> 6\u001b[0m     page_md \u001b[38;5;241m=\u001b[39m \u001b[43mextract_page_blocks_as_markdown\u001b[49m\u001b[43m(\u001b[49m\u001b[43mpage\u001b[49m\u001b[43m,\u001b[49m\u001b[43m \u001b[49m\u001b[43mpage_number\u001b[49m\u001b[43m)\u001b[49m\n\u001b[1;32m      7\u001b[0m     all_pages_md\u001b[38;5;241m.\u001b[39mappend(page_md)\n\u001b[1;32m      9\u001b[0m \u001b[38;5;28;01mreturn\u001b[39;00m \u001b[38;5;124m\"\u001b[39m\u001b[38;5;130;01m\\n\u001b[39;00m\u001b[38;5;124m\"\u001b[39m\u001b[38;5;241m.\u001b[39mjoin(all_pages_md)\n",
      "Cell \u001b[0;32mIn[47], line 26\u001b[0m, in \u001b[0;36mextract_page_blocks_as_markdown\u001b[0;34m(page, page_number)\u001b[0m\n\u001b[1;32m     24\u001b[0m     caption \u001b[38;5;241m=\u001b[39m describe_image_with_gpt4(image_b64)\n\u001b[1;32m     25\u001b[0m     image_md \u001b[38;5;241m=\u001b[39m \u001b[38;5;124mf\u001b[39m\u001b[38;5;124m\"\u001b[39m\u001b[38;5;124m![\u001b[39m\u001b[38;5;132;01m{\u001b[39;00mcaption\u001b[38;5;132;01m}\u001b[39;00m\u001b[38;5;124m](data:image/png;base64,\u001b[39m\u001b[38;5;132;01m{\u001b[39;00mimage_b64\u001b[38;5;132;01m}\u001b[39;00m\u001b[38;5;124m)\u001b[39m\u001b[38;5;124m\"\u001b[39m\n\u001b[0;32m---> 26\u001b[0m     blocks\u001b[38;5;241m.\u001b[39mappend({\u001b[38;5;124m\"\u001b[39m\u001b[38;5;124mtype\u001b[39m\u001b[38;5;124m\"\u001b[39m: \u001b[38;5;124m\"\u001b[39m\u001b[38;5;124mimage\u001b[39m\u001b[38;5;124m\"\u001b[39m, \u001b[38;5;124m\"\u001b[39m\u001b[38;5;124my\u001b[39m\u001b[38;5;124m\"\u001b[39m: \u001b[38;5;28;43mfloat\u001b[39;49m\u001b[43m(\u001b[49m\u001b[43mimg\u001b[49m\u001b[43m[\u001b[49m\u001b[38;5;241;43m5\u001b[39;49m\u001b[43m]\u001b[49m\u001b[43m)\u001b[49m, \u001b[38;5;124m\"\u001b[39m\u001b[38;5;124mcontent\u001b[39m\u001b[38;5;124m\"\u001b[39m: image_md})\n\u001b[1;32m     28\u001b[0m \u001b[38;5;66;03m# Sort all blocks top-to-bottom\u001b[39;00m\n\u001b[1;32m     29\u001b[0m sorted_blocks \u001b[38;5;241m=\u001b[39m \u001b[38;5;28msorted\u001b[39m(blocks, key\u001b[38;5;241m=\u001b[39m\u001b[38;5;28;01mlambda\u001b[39;00m b: b[\u001b[38;5;124m\"\u001b[39m\u001b[38;5;124my\u001b[39m\u001b[38;5;124m\"\u001b[39m])\n",
      "\u001b[0;31mValueError\u001b[0m: could not convert string to float: 'ICCBased'"
     ]
    }
   ],
   "source": [
    "# Call the function and save output\n",
    "full_markdown = convert_pdf_to_markdown(file)\n",
    "\n",
    "# Save to file\n",
    "output_path = \"/Users/anandpardeep/AI/semantic.md\"\n",
    "with open(output_path, \"w\", encoding=\"utf-8\") as f:\n",
    "    f.write(full_markdown)\n",
    "\n",
    "output_path  # Return the path to the saved Markdown file\n"
   ]
  },
  {
   "cell_type": "code",
   "execution_count": null,
   "id": "c0eec721-b3ba-48fd-8bc3-becba0044333",
   "metadata": {},
   "outputs": [],
   "source": []
  }
 ],
 "metadata": {
  "kernelspec": {
   "display_name": "Python 3 (ipykernel)",
   "language": "python",
   "name": "python3"
  },
  "language_info": {
   "codemirror_mode": {
    "name": "ipython",
    "version": 3
   },
   "file_extension": ".py",
   "mimetype": "text/x-python",
   "name": "python",
   "nbconvert_exporter": "python",
   "pygments_lexer": "ipython3",
   "version": "3.13.0"
  }
 },
 "nbformat": 4,
 "nbformat_minor": 5
}
