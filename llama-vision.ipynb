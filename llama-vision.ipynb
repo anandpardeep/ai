{
 "cells": [
  {
   "cell_type": "code",
   "execution_count": 16,
   "id": "8647d2fb-f9e2-4e9c-a64b-1368c584232f",
   "metadata": {},
   "outputs": [],
   "source": [
    "import pdfplumber\n",
    "import openai\n",
    "import base64\n",
    "import io\n",
    "from PIL import Image\n",
    "from dotenv import load_dotenv\n",
    "from openai import OpenAI\n",
    "import openai\n",
    "import os\n",
    "import ollama"
   ]
  },
  {
   "cell_type": "code",
   "execution_count": 17,
   "id": "d23bcd35-c160-4ae6-b965-99e0e3e34e20",
   "metadata": {},
   "outputs": [],
   "source": [
    "load_dotenv()\n",
    "openai_api_key = os.getenv(\"OPENAI_API_KEY\")\n",
    "openai.api_key = openai_api_key\n",
    "client = OpenAI(api_key=openai_api_key)"
   ]
  },
  {
   "cell_type": "code",
   "execution_count": 54,
   "id": "31743c84-db0f-40fe-b9c9-8d94534db883",
   "metadata": {},
   "outputs": [],
   "source": [
    "def page_to_base64(page):\n",
    "    #img = page.to_image(resolution=300).original.convert(\"RGB\")\n",
    "    img = page.to_image(resolution=300).original\n",
    "    buffered = io.BytesIO()\n",
    "    img.save(buffered, format=\"PNG\")\n",
    "    return base64.b64encode(buffered.getvalue()).decode(\"utf-8\")"
   ]
  },
  {
   "cell_type": "code",
   "execution_count": 78,
   "id": "8e2d8fc7-b9bb-4ccd-a8e1-96fa94aede14",
   "metadata": {},
   "outputs": [
    {
     "name": "stdout",
     "output_type": "stream",
     "text": [
      "CPU times: user 90.6 ms, sys: 50 µs, total: 90.7 ms\n",
      "Wall time: 89.9 ms\n"
     ]
    }
   ],
   "source": [
    "%%time\n",
    "pdf_path=\"CrowdStrikeGlobalThreatReport2025.pdf\"\n",
    "with pdfplumber.open(pdf_path) as pdf:\n",
    "    pages = range(len(pdf.pages))\n"
   ]
  },
  {
   "cell_type": "code",
   "execution_count": 41,
   "id": "b68477e8-064e-40f4-87f6-b25292607b11",
   "metadata": {},
   "outputs": [],
   "source": [
    "page_num=10"
   ]
  },
  {
   "cell_type": "code",
   "execution_count": 83,
   "id": "6777e93d-2818-4e1c-8ca9-76e3b6cf34ec",
   "metadata": {},
   "outputs": [],
   "source": [
    "def process_with_vision_model(page,num):\n",
    "    response = ollama.chat(\n",
    "    model='llama3.2-vision:90b',\n",
    "    stream = False,\n",
    "    messages=[\n",
    "        {\n",
    "            'role': 'system',\n",
    "            'content': 'You are a markdown extractor. Do not summarize. Extract all visible text, headings, and tables as markdown.'\n",
    "        },        \n",
    "        {        \n",
    "        'role': 'user',\n",
    "        'content': (f\"This is page {page_num} of a PDF. Convert it to clean, structured markdown. \"\n",
    "                    \"Use tables when needed. Just return the markdown content.\"),\n",
    "        'images': [page_to_base64(page)]\n",
    "    }],\n",
    "       options={\n",
    "            'temperature': 0.0,\n",
    "            'top_p': 0.1,     \n",
    "        },\n",
    "    )\n",
    "    return response['message']['content']"
   ]
  },
  {
   "cell_type": "code",
   "execution_count": null,
   "id": "5a5b0efe-8d84-4c06-bab9-ecdab4b357ba",
   "metadata": {},
   "outputs": [],
   "source": []
  },
  {
   "cell_type": "code",
   "execution_count": null,
   "id": "ef7e58f6-675a-4ff8-84c5-b0b21e357113",
   "metadata": {},
   "outputs": [],
   "source": [
    "%%time\n",
    "for i in pages:\n",
    "    print(f\"Processing page {i + 1}...\")\n",
    "    page = pdf.pages[i]\n",
    "    page_markdown = process_with_vision_model(page, i + 1)                                        \n",
    "    md_file=f\"llama-vision/page{i+1}.md\"\n",
    "    with open(md_file, 'w', encoding='utf-8') as f:\n",
    "        f.write(page_markdown)"
   ]
  },
  {
   "cell_type": "code",
   "execution_count": 84,
   "id": "2f33ab9b-818d-4a56-b3b6-d454e3888f1a",
   "metadata": {},
   "outputs": [
    {
     "name": "stdout",
     "output_type": "stream",
     "text": [
      "[Page 10] extract_text() failed: seek of closed file\n",
      "CPU times: user 492 ms, sys: 149 µs, total: 492 ms\n",
      "Wall time: 2min 50s\n"
     ]
    }
   ],
   "source": [
    "%%time\n",
    "page = pdf.pages[page_num]\n",
    "text = \"\"\n",
    "try:\n",
    "    text = page.extract_text()\n",
    "    if not text or len(text.strip()) < 10:\n",
    "        print(f\"[Page {page_num}] likely complex/multimodal — no useful text extracted.\")\n",
    "    else:\n",
    "        print(f\"[Page {page_num}] extracted {len(text.split())} words of text.\")\n",
    "        \n",
    "except Exception as e:\n",
    "    print(f\"[Page {page_num}] extract_text() failed: {e}\")\n",
    "\n",
    "page_markdown = process_with_vision_model(page, page_num + 1)   \n",
    "md_file=f\"llama-vision/page{page_num+1}.md\"\n",
    "if(is_similar(page_markdown,text)):\n",
    "    text=''\n",
    "    \n",
    "with open(md_file, 'w', encoding='utf-8') as f:\n",
    "    f.write(f\"{page_markdown}\\n\\n\\n{text}\")"
   ]
  },
  {
   "cell_type": "code",
   "execution_count": null,
   "id": "c63dca60-20f6-420c-a733-36f41090cec6",
   "metadata": {},
   "outputs": [],
   "source": []
  },
  {
   "cell_type": "code",
   "execution_count": 10,
   "id": "e46c589c-1517-4db2-a5c3-765ca1294810",
   "metadata": {},
   "outputs": [
    {
     "data": {
      "text/plain": [
       "\"# NAMING CONVENTIONS\\n\\n| ADVERSARY | NATION-STATE OR CATEGORY |\\n| --- | --- |\\n| BEAR | RUSSIA |\\n| BUFFALO | VIETNAM |\\n| CHOLLIMA | DPRK (NORTH KOREA) |\\n| CRANE | ROK (REPUBLIC OF KOREA) |\\n| HAWK | SYRIA |\\n| JACKAL | HACKTIVIST |\\n| KITTEN | IRAN |\\n| LEOPARD | PAKISTAN |\\n| LYNX | GEORGIA |\\n| OCELOT | COLOMBIA |\\n| PANDA | PEOPLE'S REPUBLIC OF CHINA |\\n| SAIGA | KAZAKHSTAN |\\n| SPHINX | EGYPT |\\n| SPIDER | eCRIME |\\n| TIGER | INDIA |\\n| WOLF | TURKEY |\""
      ]
     },
     "execution_count": 10,
     "metadata": {},
     "output_type": "execute_result"
    }
   ],
   "source": [
    "response['message']['content']"
   ]
  },
  {
   "cell_type": "code",
   "execution_count": 13,
   "id": "203e97c4-917d-48c0-aad7-1cc77f18d817",
   "metadata": {},
   "outputs": [],
   "source": []
  },
  {
   "cell_type": "code",
   "execution_count": 70,
   "id": "46d45708-e083-43c4-bc9d-e0c5ff18f6a5",
   "metadata": {},
   "outputs": [
    {
     "name": "stdout",
     "output_type": "stream",
     "text": [
      "0.6363636363636364\n"
     ]
    }
   ],
   "source": [
    "from difflib import SequenceMatcher\n",
    "\n",
    "similarity = SequenceMatcher(None, \"hello world\", \"hello there\").ratio()\n",
    "print(similarity)"
   ]
  },
  {
   "cell_type": "code",
   "execution_count": 71,
   "id": "aa3a635f-347b-41f5-bb76-1dfbece5c621",
   "metadata": {},
   "outputs": [],
   "source": [
    "def is_similar(a: str, b: str, threshold=0.85) -> bool:\n",
    "    return SequenceMatcher(None, a, b).ratio() > threshold"
   ]
  },
  {
   "cell_type": "code",
   "execution_count": null,
   "id": "eaceea13-eb60-408b-aee8-09e5cbf540e9",
   "metadata": {},
   "outputs": [],
   "source": []
  }
 ],
 "metadata": {
  "kernelspec": {
   "display_name": "Python 3",
   "language": "python",
   "name": "python3"
  },
  "language_info": {
   "codemirror_mode": {
    "name": "ipython",
    "version": 3
   },
   "file_extension": ".py",
   "mimetype": "text/x-python",
   "name": "python",
   "nbconvert_exporter": "python",
   "pygments_lexer": "ipython3",
   "version": "3.10.10"
  }
 },
 "nbformat": 4,
 "nbformat_minor": 5
}
