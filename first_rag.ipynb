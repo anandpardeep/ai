{
 "cells": [
  {
   "cell_type": "markdown",
   "metadata": {},
   "source": [
    "https://docs.llamaindex.ai/en/stable/examples/vector_stores/FaissIndexDemo/\n",
    "\n",
    "pip install llama-index-core llama-index-vector-stores-chroma chromadb     \n",
    "\n",
    "pip install llama-index  \n",
    "\n",
    "pip install ollama   \n",
    "\n",
    "pip install llama-index-embeddings-ollama"
   ]
  },
  {
   "cell_type": "code",
   "execution_count": 1,
   "metadata": {},
   "outputs": [],
   "source": [
    "from llama_index.core import Document\n",
    "from llama_index.embeddings.ollama import OllamaEmbedding\n",
    "from llama_index.core.node_parser import SentenceSplitter\n",
    "from llama_index.core.extractors import TitleExtractor\n",
    "from llama_index.core.ingestion import IngestionPipeline, IngestionCache\n",
    "from llama_index.core import VectorStoreIndex, SimpleDirectoryReader,StorageContext\n",
    "import chromadb\n",
    "from llama_index.vector_stores.chroma import ChromaVectorStore\n",
    "from llama_index.llms.ollama import Ollama\n",
    "from llama_index.core.llms import ChatMessage  \n",
    "from IPython.display import Markdown, display\n",
    "import gradio as gr\n",
    "from llama_index.core.prompts import PromptTemplate\n",
    "from llama_index.core.query_engine import RetrieverQueryEngine"
   ]
  },
  {
   "cell_type": "code",
   "execution_count": 2,
   "metadata": {},
   "outputs": [],
   "source": [
    "documentDir=\"/Users/anandpardeep/AI/docStore\"\n",
    "vectorDbLocation=\"/Users/anandpardeep/AI/vectorDB\"\n",
    "indexStorage=\"/Users/anandpardeep/AI/indexStorage\"\n",
    "system_message = \"You are a helpful assistant\"\n",
    "\n",
    "template_str = \"\"\"\n",
    "You are an assistant providing security responses based on stored knowledge for password policies.\n",
    "\n",
    "Context:\n",
    "{context_str}\n",
    "\n",
    "User Input:\n",
    "{query_str}\n",
    "\n",
    "Provide a relevant answer based on the context.\n",
    "\"\"\"\n",
    "\n",
    "prompt_template = PromptTemplate(template_str)"
   ]
  },
  {
   "cell_type": "code",
   "execution_count": null,
   "metadata": {},
   "outputs": [],
   "source": [
    "documents = SimpleDirectoryReader(documentDir).load_data()\n",
    "documents"
   ]
  },
  {
   "cell_type": "code",
   "execution_count": 4,
   "metadata": {},
   "outputs": [],
   "source": [
    "embed_model = OllamaEmbedding(model_name=\"nomic-embed-text\", base_url=\"http://localhost:11434\")  # Ollama's embedding model"
   ]
  },
  {
   "cell_type": "code",
   "execution_count": null,
   "metadata": {},
   "outputs": [],
   "source": [
    "chroma_client = chromadb.PersistentClient(path=vectorDbLocation)\n",
    "vector_store = ChromaVectorStore(chroma_client=chroma_client, chroma_collection=\"rag_data\")\n",
    "storage_context = StorageContext.from_defaults(vector_store=vector_store)\n",
    "index = VectorStoreIndex.from_documents(documents, embed_model=embed_model, vector_store=vector_store)\n",
    "# Save the index\n",
    "index.storage_context.persist(persist_dir=indexStorage)\n"
   ]
  },
  {
   "cell_type": "code",
   "execution_count": 6,
   "metadata": {},
   "outputs": [],
   "source": [
    "llm = Ollama(model=\"llama3.2:latest\", request_timeout=1200.0)"
   ]
  },
  {
   "cell_type": "code",
   "execution_count": 7,
   "metadata": {},
   "outputs": [],
   "source": [
    "retriever = index.as_retriever()\n",
    "query_engine = RetrieverQueryEngine.from_args(retriever, llm=llm, text_qa_template=prompt_template,similarity_top_k=2)\n"
   ]
  },
  {
   "cell_type": "markdown",
   "metadata": {},
   "source": [
    "pip install llama-index-core llama-index-vector-stores-chroma llama-index-embeddings-nomic chromadb\n"
   ]
  },
  {
   "cell_type": "code",
   "execution_count": null,
   "metadata": {},
   "outputs": [],
   "source": [
    "def message_model(prompt):\n",
    "  print(prompt)\n",
    "  return query_engine.query(prompt).response\n"
   ]
  },
  {
   "cell_type": "code",
   "execution_count": null,
   "metadata": {},
   "outputs": [
    {
     "name": "stdout",
     "output_type": "stream",
     "text": [
      "* Running on local URL:  http://127.0.0.1:7860\n",
      "\n",
      "To create a public link, set `share=True` in `launch()`.\n"
     ]
    },
    {
     "data": {
      "text/html": [
       "<div><iframe src=\"http://127.0.0.1:7860/\" width=\"100%\" height=\"500\" allow=\"autoplay; camera; microphone; clipboard-read; clipboard-write;\" frameborder=\"0\" allowfullscreen></iframe></div>"
      ],
      "text/plain": [
       "<IPython.core.display.HTML object>"
      ]
     },
     "metadata": {},
     "output_type": "display_data"
    },
    {
     "data": {
      "text/plain": []
     },
     "execution_count": 9,
     "metadata": {},
     "output_type": "execute_result"
    },
    {
     "name": "stdout",
     "output_type": "stream",
     "text": [
      "Whats the password policy\n",
      "is abc12345 correct password\n",
      "what is the pswrod policy\n",
      "what is the recommended length of password\n"
     ]
    }
   ],
   "source": [
    "# https://www.gradio.app/guides/quickstart\n",
    "gr.Interface(fn=message_model, inputs=gr.Textbox(lines=2, label=\"Ask a question...\"),\n",
    "             outputs=\"textbox\", flagging_mode=\"never\").queue().launch(inbrowser=False,debug=False)"
   ]
  },
  {
   "cell_type": "code",
   "execution_count": null,
   "metadata": {},
   "outputs": [],
   "source": []
  },
  {
   "cell_type": "code",
   "execution_count": null,
   "metadata": {},
   "outputs": [],
   "source": []
  }
 ],
 "metadata": {
  "kernelspec": {
   "display_name": "Python 3",
   "language": "python",
   "name": "python3"
  },
  "language_info": {
   "codemirror_mode": {
    "name": "ipython",
    "version": 3
   },
   "file_extension": ".py",
   "mimetype": "text/x-python",
   "name": "python",
   "nbconvert_exporter": "python",
   "pygments_lexer": "ipython3",
   "version": "3.13.0"
  }
 },
 "nbformat": 4,
 "nbformat_minor": 2
}
