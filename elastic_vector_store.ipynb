{
 "cells": [
  {
   "cell_type": "code",
   "execution_count": 1,
   "id": "4960f816-7584-44be-a27a-bc3b933c18d7",
   "metadata": {},
   "outputs": [],
   "source": [
    "from llama_index.core import Document\n",
    "from llama_index.embeddings.ollama import OllamaEmbedding\n",
    "from llama_index.core.node_parser import SentenceSplitter\n",
    "from llama_index.core.extractors import TitleExtractor\n",
    "from llama_index.core.ingestion import IngestionPipeline, IngestionCache\n",
    "from llama_index.core import VectorStoreIndex, SimpleDirectoryReader,StorageContext\n",
    "import chromadb\n",
    "from llama_index.vector_stores.chroma import ChromaVectorStore\n",
    "from llama_index.llms.ollama import Ollama\n",
    "from llama_index.core.llms import ChatMessage  \n",
    "from IPython.display import Markdown, display\n",
    "import gradio as gr\n",
    "from llama_index.core.prompts import PromptTemplate\n",
    "from llama_index.core.query_engine import RetrieverQueryEngine\n",
    "from llama_index.core.postprocessor import SentenceTransformerRerank\n",
    "from llama_index.core import Settings\n",
    "from dotenv import load_dotenv\n",
    "import os\n",
    "from openai import OpenAI\n",
    "import openai\n",
    "from llama_index.core import ServiceContext\n",
    "from llama_index.llms.openai import OpenAI as LlamaOpenAI  # LlamaIndex-compatible\n",
    "from llama_index.vector_stores.elasticsearch import ElasticsearchStore"
   ]
  },
  {
   "cell_type": "code",
   "execution_count": 2,
   "id": "832c6b46-1d73-4ae1-b24b-acebcab9e724",
   "metadata": {},
   "outputs": [],
   "source": [
    "load_dotenv()\n",
    "\n",
    "openai_api_key = os.getenv(\"OPENAI_API_KEY\")\n",
    "openai.api_key = openai_api_key\n",
    "client = OpenAI(api_key=openai_api_key)\n",
    "ELASTIC_API_KEY=os.getenv(\"ELASTIC_API_KEY\")\n",
    "ELASTIC_URL=os.getenv(\"ELASTIC_URL\")\n",
    "ELASTIC_INDEX=\"demo\""
   ]
  },
  {
   "cell_type": "code",
   "execution_count": 3,
   "id": "aeebaa1b-f7ce-4bfa-8be5-b25f81143aef",
   "metadata": {},
   "outputs": [],
   "source": [
    "DEFAULT_MODEL=\"LLaMA 3.2 (Ollama)\"\n",
    "SUPPORTED_MODELS = {\n",
    "    \"OpenAI GPT-4\": {\"provider\": \"openai\", \"model_name\": \"gpt-4\"},\n",
    "    DEFAULT_MODEL: {\"provider\": \"ollama\", \"model_name\": \"llama3.2\"}\n",
    "}\n",
    "\n",
    "llm_cache = {}\n",
    "for model_name, config in SUPPORTED_MODELS.items():\n",
    "    if config[\"provider\"] == \"openai\":\n",
    "        llm_cache[model_name] = LlamaOpenAI(model_name=config[\"model_name\"])\n",
    "    elif config[\"provider\"] == \"ollama\":\n",
    "        llm_cache[model_name] = Ollama(model=config[\"model_name\"], \n",
    "                                       request_timeout=120, \n",
    "                                       base_url=\"http://127.0.0.1:11434\")"
   ]
  },
  {
   "cell_type": "code",
   "execution_count": 4,
   "id": "0efa6876-6c8d-4fcd-b59f-f248b58ea487",
   "metadata": {},
   "outputs": [],
   "source": [
    "def get_llm_from_choice(choice: str):\n",
    "    config = SUPPORTED_MODELS[choice]\n",
    "    if choice not in llm_cache:\n",
    "      raise ValueError(\"Unsupported provider\")\n",
    "    \n",
    "    return llm_cache[choice]    "
   ]
  },
  {
   "cell_type": "code",
   "execution_count": 5,
   "id": "cff64a3a-947c-41cf-bc10-6a167ece58ad",
   "metadata": {},
   "outputs": [],
   "source": [
    "documentDir=\"llama-vision\"\n",
    "vectorDbLocation=\"demo_vectorDB\"\n",
    "indexStorage=\"indexStorage\"\n",
    "\n",
    "system_message = \"You are a helpful assistant\"\n",
    "\n",
    "template_str = \"\"\"\n",
    "You are a cybersecurity expert assistant analyzing threat intelligence reports. You provide detailed, technical responses based on stored security knowledge for security analysts and incident responders.\n",
    "\n",
    "Context Information:\n",
    "{context_str}\n",
    "\n",
    "Analyst Question:\n",
    "{query_str}\n",
    "\n",
    "Instructions:\n",
    "- Provide technical details when available\n",
    "- Reference specific threat actors, TTPs, or indicators if mentioned in the context\n",
    "- If the context doesn't contain relevant information, clearly state this\n",
    "- Format your response for security professionals\n",
    "\n",
    "Response:\n",
    "\"\"\"\n",
    "\n",
    "prompt_template = PromptTemplate(template_str)"
   ]
  },
  {
   "cell_type": "code",
   "execution_count": 18,
   "id": "73d85d8c-3298-4ff6-999c-48dd923b9b7d",
   "metadata": {},
   "outputs": [],
   "source": [
    "documents = SimpleDirectoryReader(documentDir).load_data()\n",
    "for doc in documents:\n",
    "    filename = doc.metadata.get(\"file_path\", \"\")\n",
    "    import re\n",
    "    match = re.search(r\"page[_\\-]?(\\d+)\", filename.lower())\n",
    "    if match:\n",
    "        doc.metadata[\"page\"] = int(match.group(1))\n"
   ]
  },
  {
   "cell_type": "code",
   "execution_count": 11,
   "id": "78d5afbf-9eb5-44fd-87a1-f82bfd55c9d0",
   "metadata": {},
   "outputs": [
    {
     "data": {
      "text/plain": [
       "[Document(id_='720f38ea-072c-47e6-84de-95be31d9d0a6', embedding=None, metadata={'file_path': '/teamspace/studios/this_studio/llama-vision/page1.md', 'file_name': 'page1.md', 'file_type': 'text/markdown', 'file_size': 1694, 'creation_date': '2025-06-06', 'last_modified_date': '2025-06-06', 'page': 1}, excluded_embed_metadata_keys=['file_name', 'file_type', 'file_size', 'creation_date', 'last_modified_date', 'last_accessed_date'], excluded_llm_metadata_keys=['file_name', 'file_type', 'file_size', 'creation_date', 'last_modified_date', 'last_accessed_date'], relationships={}, metadata_template='{key}: {value}', metadata_separator='\\n', text_resource=MediaResource(embeddings=None, data=None, text='The image presents the cover of CrowdStrike\\'s 2025 Global Threat Report, featuring a striking visual representation of three characters in a futuristic cityscape. The title, \"CROWDSTRIKE 2025 GLOBAL THREAT REPORT,\" is prominently displayed in bold red font at the top of the image.\\n\\n**Key Elements:**\\n\\n* **Title:** CROWDSTRIKE 2025 GLOBAL THREAT REPORT\\n* **Visual Representation:** Three characters in a futuristic cityscape\\n* **Color Scheme:** Predominantly red and black, with accents of white and gray\\n\\n**Character Descriptions:**\\n\\n* **Left Character:** Wearing a black jacket and pants, with a red scarf and a black hat\\n* **Middle Character:** Dressed in a white shirt and black pants, with a black jacket and a red tie\\n* **Right Character:** Attired in a black suit and tie, with a white shirt and a black hat\\n\\n**Background:**\\n\\n* **Cityscape:** A futuristic city with towering skyscrapers and neon lights\\n* **Sky:** A deep red hue, with clouds of smoke and fire\\n\\n**Overall Impression:**\\n\\n* **Mood:** Ominous and foreboding, with a sense of danger and uncertainty\\n* **Tone:** Serious and professional, with a focus on highlighting the importance of cybersecurity in the face of emerging threats\\n\\n**Conclusion:**\\n\\nThe image effectively conveys the message that cybersecurity is a critical concern in today\\'s digital landscape, and that organizations must be proactive in protecting themselves against emerging threats. The use of a futuristic cityscape and ominous color scheme creates a sense of urgency and importance, while the inclusion of three characters adds a human element to the image. Overall, the image is well-designed and effectively communicates the key message of the report.', path=None, url=None, mimetype=None), image_resource=None, audio_resource=None, video_resource=None, text_template='{metadata_str}\\n\\n{content}')]"
      ]
     },
     "execution_count": 11,
     "metadata": {},
     "output_type": "execute_result"
    }
   ],
   "source": [
    "documents[:1]"
   ]
  },
  {
   "cell_type": "code",
   "execution_count": 6,
   "id": "99565f52-f957-4d6e-b2d5-37f8a0471963",
   "metadata": {},
   "outputs": [],
   "source": [
    "from llama_index.core.node_parser import SemanticSplitterNodeParser\n",
    "from llama_index.embeddings.openai import OpenAIEmbedding\n",
    "from llama_index.core.node_parser import MarkdownNodeParser\n",
    "embed_model = OllamaEmbedding(model_name=\"nomic-embed-text\")  # Ollama's embedding model\n",
    "#embed_model =  OpenAIEmbedding()"
   ]
  },
  {
   "cell_type": "code",
   "execution_count": 20,
   "id": "e8a0be1a-251e-42f5-ac7d-c4446b1fa1fc",
   "metadata": {},
   "outputs": [],
   "source": [
    "md_parser = MarkdownNodeParser()\n",
    "md_nodes = md_parser.get_nodes_from_documents(documents)"
   ]
  },
  {
   "cell_type": "markdown",
   "id": "982f027a-387e-4b61-9694-361ca41e22b4",
   "metadata": {},
   "source": [
    "\n",
    "md_nodes"
   ]
  },
  {
   "cell_type": "code",
   "execution_count": 21,
   "id": "1a4f9b75-ed7c-40bb-b4f8-aa4295f895d1",
   "metadata": {},
   "outputs": [],
   "source": [
    "semantic_parser = SemanticSplitterNodeParser(\n",
    "    embed_model=embed_model,\n",
    "    chunk_size=1024,\n",
    "    chunk_overlap=128\n",
    ")\n",
    "semantic_nodes = semantic_parser.build_semantic_nodes_from_documents(md_nodes)"
   ]
  },
  {
   "cell_type": "code",
   "execution_count": 15,
   "id": "c6405601-172a-429f-99d4-afcf4173d47d",
   "metadata": {},
   "outputs": [
    {
     "name": "stdout",
     "output_type": "stream",
     "text": [
      "Node <class 'llama_index.core.schema.TextNode'>:\n",
      "  Text: The image presents the cover of CrowdStrike's 2025 Global Threat Report, featuring a striking visual\n",
      "  embeddin: Node ID: 6831c7dc-8690-4bd1-bd74-cc3ac1dc2cc4\n",
      "Text: The image presents the cover of CrowdStrike's 2025 Global Threat\n",
      "Report, featuring a striking visual representation of three characters\n",
      "in a futuristic cityscape. The title, \"CROWDSTRIKE 2025 GLOBAL THREAT\n",
      "REPORT,\" is prominently displayed in bold red font at the top of the\n",
      "image.  **Key Elements:**  * **Title:** CROWDSTRIKE 2025 GLOBAL THREAT\n",
      "R...\n",
      "\n",
      "Node <class 'llama_index.core.schema.TextNode'>:\n",
      "  Text: Overall, the image is well-designed and effectively communicates the key message of the report.\n",
      "  embeddin: Node ID: cb68eb9f-0f88-46f4-9140-21248fa23c67\n",
      "Text: Overall, the image is well-designed and effectively communicates\n",
      "the key message of the report.\n",
      "\n",
      "Node <class 'llama_index.core.schema.TextNode'>:\n",
      "  Text: **The Growing Reliance on Identity Attacks and Vulnerability Exploits**\n",
      "\n",
      "Every breach starts with in\n",
      "  embeddin: Node ID: ab138271-30df-424a-8815-34fb818bcf81\n",
      "Text: **The Growing Reliance on Identity Attacks and Vulnerability\n",
      "Exploits**  Every breach starts with initial access, and identity-\n",
      "based attacks are among the most effective entry methods. Instead of\n",
      "traditional malware, adversaries favor faster and stealthier methods\n",
      "such as vishing, social engineering, access broker services, and\n",
      "trusted relations...\n",
      "\n",
      "Node <class 'llama_index.core.schema.TextNode'>:\n",
      "  Text: In 2024, 52% of observed vulnerabilities were linked to initial access, reinforcing the need to secu\n",
      "  embeddin: Node ID: e7960f59-9e84-4ff9-a6eb-6a4c18aac914\n",
      "Text: In 2024, 52% of observed vulnerabilities were linked to initial\n",
      "access, reinforcing the need to secure exposed systems before\n",
      "attackers establish a foothold.  **The Continued Rise of Interactive\n",
      "Intrusions**  Modern cyber threats are increasingly dominated by\n",
      "\"interactive intrusion\" techniques, where adversaries execute hands-\n",
      "on-keyboard actions...\n",
      "\n",
      "Node <class 'llama_index.core.schema.TextNode'>:\n",
      "  Text: # CROWDSTRIKE 2025 GLOBAL THREAT REPORT\n",
      "  embeddin: Node ID: 7517218a-c8af-4005-b8d9-0bbbc600cd6f\n",
      "Text: # CROWDSTRIKE 2025 GLOBAL THREAT REPORT\n",
      "\n"
     ]
    }
   ],
   "source": [
    "for i, node in enumerate(semantic_nodes[:5]):\n",
    "    print(f\"Node {type(node)}:\")\n",
    "    print(f\"  Text: {node.text[:100]}\") \n",
    "    print(f\"  embeddin: {node}\\n\")"
   ]
  },
  {
   "cell_type": "code",
   "execution_count": 7,
   "id": "52a646ba-f82c-458f-aa5f-3fc83c3ee573",
   "metadata": {},
   "outputs": [],
   "source": [
    "vector_store = ElasticsearchStore(\n",
    "    es_url=ELASTIC_URL,  \n",
    "    index_name=ELASTIC_INDEX,\n",
    "    es_api_key=ELASTIC_API_KEY\n",
    ")"
   ]
  },
  {
   "cell_type": "code",
   "execution_count": 23,
   "id": "270b8708-3456-4e40-b1a8-fa5c3305d862",
   "metadata": {},
   "outputs": [],
   "source": [
    "#If we are storing it\n",
    "storage_context = StorageContext.from_defaults(vector_store=vector_store)\n",
    "index = VectorStoreIndex(\n",
    "    semantic_nodes,\n",
    "    storage_context=storage_context,\n",
    "    embed_model=embed_model\n",
    ")"
   ]
  },
  {
   "cell_type": "code",
   "execution_count": 8,
   "id": "7ee12aef-0065-4df3-8867-293b12bd1fec",
   "metadata": {},
   "outputs": [],
   "source": [
    "# Create index from existing store\n",
    "index = VectorStoreIndex.from_vector_store(\n",
    "    vector_store=vector_store,\n",
    "    embed_model=embed_model\n",
    ")"
   ]
  },
  {
   "cell_type": "code",
   "execution_count": 9,
   "id": "aebc2bcd-c48b-4ec5-a26b-4f6f13e2d284",
   "metadata": {},
   "outputs": [],
   "source": [
    "from llama_index.core.query_engine import RetrieverQueryEngine\n",
    "\n",
    "retriever = index.as_retriever(similarity_top_k=3)\n",
    "\n"
   ]
  },
  {
   "cell_type": "code",
   "execution_count": 10,
   "id": "ca3cdb5d-91ed-46dd-b2cb-1ddbd3318f96",
   "metadata": {},
   "outputs": [],
   "source": [
    "def message_model(prompt,model_choice):\n",
    "    llm_to_use = get_llm_from_choice(model_choice)\n",
    "    print(\"\\n=== RETRIEVED CONTEXT ===\")    \n",
    "    retrieved_nodes = retriever.retrieve(prompt)\n",
    "    for i, node in enumerate(retrieved_nodes):\n",
    "      print(f\"Node {i+1} Score: {node.score:.4f}\")\n",
    "      print(f\"Content Preview: {node.text[:200]}...\")\n",
    "      print(\"---\")\n",
    "    query_engine = RetrieverQueryEngine.from_args(\n",
    "        retriever=retriever,\n",
    "        llm=llm_to_use,\n",
    "        text_qa_template=prompt_template,\n",
    "        verbose=True\n",
    "    )\n",
    "    context_str = \"\\n\\n\".join([node.text for node in retrieved_nodes])\n",
    "    formatted_prompt = prompt_template.format(\n",
    "        context_str=context_str,\n",
    "        query_str=prompt\n",
    "    )\n",
    "    \n",
    "    print(\"\\n=== FORMATTED PROMPT SENT TO LLM ===\")\n",
    "    print(formatted_prompt)\n",
    "    print(\"=== END FORMATTED PROMPT ===\\n\")\n",
    "    response = query_engine.query(prompt)\n",
    "    return response.response"
   ]
  },
  {
   "cell_type": "code",
   "execution_count": 11,
   "id": "427f410d-4188-4ae8-9703-87e321eae893",
   "metadata": {},
   "outputs": [
    {
     "name": "stdout",
     "output_type": "stream",
     "text": [
      "\n",
      "=== RETRIEVED CONTEXT ===\n",
      "Node 1 Score: 1.0000\n",
      "Content Preview: # Naming Conventions\n",
      "\n",
      "The following is a list of adversary groups, their nation-state or category, and any notable information about them....\n",
      "---\n",
      "Node 2 Score: 0.4693\n",
      "Content Preview: ### Adversary Groups\n",
      "\n",
      "| Adversary | Nation-State or Category | Notable Information |\n",
      "| --- | --- | --- |\n",
      "| Bear | Russia |  |\n",
      "| Buffalo | Vietnam |  |\n",
      "| Chollima | North Korea |  |\n",
      "| Crane | South Kor...\n",
      "---\n",
      "Node 3 Score: 0.0000\n",
      "Content Preview: ### Section 1: Introduction\n",
      "\n",
      "During 2024, CrowdStrike Intelligence introduced 26 newly named adversaries, including the Kazakhstan-based adversary COMRADE SAIGA, raising the total number of named adve...\n",
      "---\n",
      "\n",
      "=== FORMATTED PROMPT SENT TO LLM ===\n",
      "\n",
      "You are a cybersecurity expert assistant analyzing threat intelligence reports. You provide detailed, technical responses based on stored security knowledge for security analysts and incident responders.\n",
      "\n",
      "Context Information:\n",
      "# Naming Conventions\n",
      "\n",
      "The following is a list of adversary groups, their nation-state or category, and any notable information about them.\n",
      "\n",
      "### Adversary Groups\n",
      "\n",
      "| Adversary | Nation-State or Category | Notable Information |\n",
      "| --- | --- | --- |\n",
      "| Bear | Russia |  |\n",
      "| Buffalo | Vietnam |  |\n",
      "| Chollima | North Korea |  |\n",
      "| Crane | South Korea |  |\n",
      "| Hawk | Syria |  |\n",
      "| Jackal | Hacktivist |  |\n",
      "| Kitten | Iran |  |\n",
      "| Leopard | Pakistan |  |\n",
      "| Lynx | Georgia |  |\n",
      "| Ocelot | Colombia |  |\n",
      "| Panda | People's Republic of China |  |\n",
      "| Saiga | Kazakhstan |  |\n",
      "| Sphinx | Egypt |  |\n",
      "| Spider | eCrime |  |\n",
      "| Tiger | India |  |\n",
      "| Wolf | Turkey |  |\n",
      "\n",
      "Note: The list only includes the information provided in the original table and does not include any additional details or analysis.\n",
      "\n",
      "### Section 1: Introduction\n",
      "\n",
      "During 2024, CrowdStrike Intelligence introduced 26 newly named adversaries, including the Kazakhstan-based adversary COMRADE SAIGA, raising the total number of named adversaries tracked across all motivations to 257. In addition to named adversaries, CrowdStrike Intelligence tracks more than 140 active malicious activity clusters and emerging threat groups.\n",
      "\n",
      "Analyst Question:\n",
      "as per adversary groups whats the name given to Pakistan\n",
      "\n",
      "Instructions:\n",
      "- Provide technical details when available\n",
      "- Reference specific threat actors, TTPs, or indicators if mentioned in the context\n",
      "- If the context doesn't contain relevant information, clearly state this\n",
      "- Format your response for security professionals\n",
      "\n",
      "Response:\n",
      "\n",
      "=== END FORMATTED PROMPT ===\n",
      "\n"
     ]
    },
    {
     "data": {
      "text/plain": [
       "'Based on the provided adversary group list, the nation-state or category associated with Pakistan is Leopard. No additional notable information is available about this adversary group.'"
      ]
     },
     "execution_count": 11,
     "metadata": {},
     "output_type": "execute_result"
    }
   ],
   "source": [
    "message_model(\"as per adversary groups whats the name given to Pakistan\",\"LLaMA 3.2 (Ollama)\")"
   ]
  },
  {
   "cell_type": "code",
   "execution_count": null,
   "id": "69bc3a76-c264-48ee-b674-b4d0385ab96e",
   "metadata": {},
   "outputs": [],
   "source": [
    "gr.Interface(\n",
    "    fn=message_model,\n",
    "    inputs=[gr.Textbox(lines=2, label=\"Ask a question...\"),\n",
    "           gr.Dropdown(list(SUPPORTED_MODELS.keys()), label=\"Choose Model\", value=DEFAULT_MODEL)],\n",
    "    outputs=gr.Textbox(placeholder=\"Output text.....\"), \n",
    "    flagging_mode=\"never\"\n",
    ").launch(share=False,debug=False)"
   ]
  },
  {
   "cell_type": "code",
   "execution_count": null,
   "id": "3b770329-17d5-4f37-b935-6dd3003d2e1b",
   "metadata": {},
   "outputs": [],
   "source": []
  }
 ],
 "metadata": {
  "kernelspec": {
   "display_name": "Python 3",
   "language": "python",
   "name": "python3"
  },
  "language_info": {
   "codemirror_mode": {
    "name": "ipython",
    "version": 3
   },
   "file_extension": ".py",
   "mimetype": "text/x-python",
   "name": "python",
   "nbconvert_exporter": "python",
   "pygments_lexer": "ipython3",
   "version": "3.10.10"
  }
 },
 "nbformat": 4,
 "nbformat_minor": 5
}
